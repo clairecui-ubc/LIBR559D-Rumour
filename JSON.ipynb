{
 "cells": [
  {
   "cell_type": "markdown",
   "metadata": {},
   "source": [
    "# Test Part"
   ]
  },
  {
   "cell_type": "code",
   "execution_count": 13,
   "metadata": {
    "collapsed": false,
    "deletable": true,
    "editable": true
   },
   "outputs": [
    {
     "data": {
      "text/plain": [
       "'C:\\\\JupyterHost\\\\LIBR559D\\\\FINAL'"
      ]
     },
     "execution_count": 13,
     "metadata": {},
     "output_type": "execute_result"
    }
   ],
   "source": [
    "import os\n",
    "os.path.abspath('.')"
   ]
  },
  {
   "cell_type": "code",
   "execution_count": 26,
   "metadata": {
    "collapsed": false,
    "deletable": true,
    "editable": true,
    "scrolled": true
   },
   "outputs": [
    {
     "data": {
      "text/plain": [
       "['552783667052167168',\n",
       " '552785375161499649',\n",
       " '552791196247269378',\n",
       " '552791578893619200',\n",
       " '552792544132997121',\n",
       " '552792802309181440',\n",
       " '552792913910833152',\n",
       " '552793679082311680',\n",
       " '552802654641225728',\n",
       " '552805488631758849',\n",
       " '552806309540528128',\n",
       " '552806757672964097',\n",
       " '552810448324943872',\n",
       " '552811386259386370',\n",
       " '552814494381256704',\n",
       " '552816020403269632',\n",
       " '552821069036670976',\n",
       " '552832817089236992',\n",
       " '552833028201144320',\n",
       " '552834961762709505',\n",
       " '552848620375261184',\n",
       " '552978099357237248',\n",
       " '552978184413921281',\n",
       " '552982613288157184',\n",
       " '552984502063337472',\n",
       " '552996335319007233',\n",
       " '553107921081749504',\n",
       " '553152395371630592',\n",
       " '553160652567498752',\n",
       " '553164985460068352',\n",
       " '553184482241814530',\n",
       " '553197863971610624',\n",
       " '553212962044149761',\n",
       " '553221600955621376',\n",
       " '553461741917863936',\n",
       " '553467311261503488',\n",
       " '553470492565602305',\n",
       " '553474188259102720',\n",
       " '553476490315431937',\n",
       " '553476880339599360',\n",
       " '553478289474740224',\n",
       " '553486439129038848',\n",
       " '553489393202499584',\n",
       " '553501357156876290',\n",
       " '553503184174710784',\n",
       " '553505242554175489',\n",
       " '553506608203169792',\n",
       " '553508098825261056',\n",
       " '553512735192141826',\n",
       " '553518472798683136',\n",
       " '553531413459660800',\n",
       " '553534838880608256',\n",
       " '553535829017370625',\n",
       " '553538058440941568',\n",
       " '553543369604210689',\n",
       " '553544252563935234',\n",
       " '553544694765215745',\n",
       " '553548567420628992',\n",
       " '553549686129561600',\n",
       " '553550301886955520',\n",
       " '553558982476828674',\n",
       " '553566026030272512',\n",
       " '553575232867672064',\n",
       " '553576010898497536',\n",
       " '553579224402235393',\n",
       " '553586860334010368',\n",
       " '553586897168392192',\n",
       " '553587013409325058',\n",
       " '553587303172833280',\n",
       " '553587672137334785',\n",
       " '553588178687655936',\n",
       " '553589051044151296',\n",
       " '553590459688570880',\n",
       " '553590835850514433']"
      ]
     },
     "execution_count": 26,
     "metadata": {},
     "output_type": "execute_result"
    }
   ],
   "source": [
    "[x for x in os.listdir('.') if os.path.isdir(x)]"
   ]
  },
  {
   "cell_type": "code",
   "execution_count": 31,
   "metadata": {
    "collapsed": false,
    "deletable": true,
    "editable": true
   },
   "outputs": [
    {
     "name": "stdout",
     "output_type": "stream",
     "text": [
      "[]\n",
      "['552783667052167168', '552785375161499649', '552791196247269378', '552791578893619200', '552792544132997121', '552792802309181440', '552792913910833152', '552793679082311680', '552802654641225728', '552805488631758849', '552806309540528128', '552806757672964097', '552810448324943872', '552811386259386370', '552814494381256704', '552816020403269632', '552821069036670976', '552832817089236992', '552833028201144320', '552834961762709505', '552848620375261184', '552978099357237248', '552978184413921281', '552982613288157184', '552984502063337472', '552996335319007233', '553107921081749504', '553152395371630592', '553160652567498752', '553164985460068352', '553184482241814530', '553197863971610624', '553212962044149761', '553221600955621376', '553461741917863936', '553467311261503488', '553470492565602305', '553474188259102720', '553476490315431937', '553476880339599360', '553478289474740224', '553486439129038848', '553489393202499584', '553501357156876290', '553503184174710784', '553505242554175489', '553506608203169792', '553508098825261056', '553512735192141826', '553518472798683136', '553531413459660800', '553534838880608256', '553535829017370625', '553538058440941568', '553543369604210689', '553544252563935234', '553544694765215745', '553548567420628992', '553549686129561600', '553550301886955520', '553558982476828674', '553566026030272512', '553575232867672064', '553576010898497536', '553579224402235393', '553586860334010368', '553586897168392192', '553587013409325058', '553587303172833280', '553587672137334785', '553588178687655936', '553589051044151296', '553590459688570880', '553590835850514433']\n"
     ]
    }
   ],
   "source": [
    "import os.path\n",
    "\n",
    "# Get all regular files\n",
    "names = [name for name in os.listdir('.')\n",
    "        if os.path.isfile(os.path.join('.', name))]\n",
    "print names\n",
    "\n",
    "# Get all dirs\n",
    "dirnames = [name for name in os.listdir('.')\n",
    "        if os.path.isdir(os.path.join('.', name))]\n",
    "print dirnames"
   ]
  },
  {
   "cell_type": "code",
   "execution_count": 6,
   "metadata": {
    "collapsed": false,
    "deletable": true,
    "editable": true
   },
   "outputs": [
    {
     "name": "stdout",
     "output_type": "stream",
     "text": [
      "[]\n"
     ]
    }
   ],
   "source": [
    "from os import listdir\n",
    "from os.path import isfile, join\n",
    "onlyfiles = [ f for f in listdir('.') if isfile(join('annotation.json',f)) ]\n",
    "print onlyfiles"
   ]
  },
  {
   "cell_type": "code",
   "execution_count": 17,
   "metadata": {
    "collapsed": false,
    "deletable": true,
    "editable": true
   },
   "outputs": [
    {
     "name": "stdout",
     "output_type": "stream",
     "text": [
      "C:\\JupyterHost\\LIBR559D\\FINAL\\pheme-rumour-scheme-dataset\\threads\\en\\charliehebdo\n"
     ]
    }
   ],
   "source": [
    "cd pheme-rumour-scheme-dataset\\threads\\en\\charliehebdo"
   ]
  },
  {
   "cell_type": "code",
   "execution_count": 11,
   "metadata": {
    "collapsed": false,
    "deletable": true,
    "editable": true,
    "scrolled": true
   },
   "outputs": [
    {
     "name": "stdout",
     "output_type": "stream",
     "text": [
      "{u'category': u'(At least) 10 people are dead at Charlie Hebdo offices', u'links': [{u'position': u'for', u'link': u'http://www.bbc.co.uk/news/live/world-europe-30710777?ns_mchannel=social', u'mediatype': u'news-media'}, {u'position': u'for', u'link': u'http://news.sky.com/story/1403662/paris-attack-manhunt-as-armed-killers-flee', u'mediatype': u'news-media'}], u'is_rumour': u'rumour', u'misinformation': 0, 'tweet_id': '552783667052167168', u'is_turnaround': 0, u'true': u'1'}\n",
      "{u'category': u'(At least) 10 people are dead at Charlie Hebdo offices', u'links': [{u'position': u'for', u'link': u'http://www.bbc.co.uk/news/live/world-europe-30710777?ns_mchannel=social', u'mediatype': u'news-media'}, {u'position': u'for', u'link': u'http://news.sky.com/story/1403662/paris-attack-manhunt-as-armed-killers-flee', u'mediatype': u'news-media'}], u'is_rumour': u'rumour', u'misinformation': 0, 'tweet_id': '552785375161499649', u'is_turnaround': 0, u'true': u'1'}\n",
      "{u'category': u'(At least) 10 people are dead at Charlie Hebdo offices', u'links': [{u'position': u'for', u'link': u'http://www.bbc.co.uk/news/live/world-europe-30710777?ns_mchannel=social', u'mediatype': u'news-media'}, {u'position': u'for', u'link': u'http://news.sky.com/story/1403662/paris-attack-manhunt-as-armed-killers-flee', u'mediatype': u'news-media'}], u'is_rumour': u'rumour', u'misinformation': 0, 'tweet_id': '552791196247269378', u'is_turnaround': 0, u'true': u'1'}\n",
      "{u'category': u'11 people died during the Charlie Hebdo attack', u'links': [{u'position': u'for', u'link': u'https://amp.twimg.com/v/29607592-213b-472c-beda-d188e41135ef', u'mediatype': u'news-media'}, {u'position': None, u'link': u'http://www.mirror.co.uk/news/world-news/charlie-hebdo-paris-shooting-live-4933848', u'mediatype': None}], u'is_rumour': u'rumour', u'misinformation': 0, 'tweet_id': '552791578893619200', u'is_turnaround': 0, u'true': u'1'}\n",
      "{u'category': u'11 people died during the Charlie Hebdo attack', u'links': [{u'position': u'for', u'link': u'https://amp.twimg.com/v/29607592-213b-472c-beda-d188e41135ef', u'mediatype': u'news-media'}, {u'position': None, u'link': u'http://www.mirror.co.uk/news/world-news/charlie-hebdo-paris-shooting-live-4933848', u'mediatype': None}], u'is_rumour': u'rumour', u'misinformation': 0, 'tweet_id': '552792544132997121', u'is_turnaround': 0, u'true': u'1'}\n",
      "{u'category': u'2 police officers died during the Charlie Hebdo attack', u'links': [{u'position': u'for', u'link': u'http://www.independent.co.uk/news/world/europe/the-first-man-killed-in-charlie-hebdo-attacks-was-muslim-police-officer-ahmed-merabet-9964283.html', u'mediatype': u'news-media'}], u'is_rumour': u'rumour', u'misinformation': 0, 'tweet_id': '552792802309181440', u'is_turnaround': 0, u'true': u'1'}\n",
      "{u'category': u'11 people died during the Charlie Hebdo attack', u'links': [{u'position': u'for', u'link': u'https://amp.twimg.com/v/29607592-213b-472c-beda-d188e41135ef', u'mediatype': u'news-media'}, {u'position': None, u'link': u'http://www.mirror.co.uk/news/world-news/charlie-hebdo-paris-shooting-live-4933848', u'mediatype': None}], u'is_rumour': u'rumour', u'misinformation': 0, 'tweet_id': '552792913910833152', u'is_turnaround': 0, u'true': u'1'}\n",
      "{u'category': u'11 people died during the Charlie Hebdo attack', u'links': [{u'position': u'for', u'link': u'https://amp.twimg.com/v/29607592-213b-472c-beda-d188e41135ef', u'mediatype': u'news-media'}, {u'position': None, u'link': u'http://www.mirror.co.uk/news/world-news/charlie-hebdo-paris-shooting-live-4933848', u'mediatype': None}], u'is_rumour': u'rumour', u'misinformation': 0, 'tweet_id': '552793679082311680', u'is_turnaround': 0, u'true': u'1'}\n",
      "{u'category': u'12 people died in connection with the Charlie Hebdo attack', u'links': [{u'position': u'for', u'link': u'http://www.aljazeera.com/news/europe/2015/01/french-newspaper-attacked-paris-gunmen-201517111836139681.html', u'mediatype': u'news-media'}, {u'position': u'for', u'link': u'http://www.bbc.com/news/world-europe-30710883?ns_mchannel=social', u'mediatype': u'news-media'}, {u'position': u'for', u'link': u'http://www.independent.co.uk/news/world/europe/charlie-hebdo-paris-shooting-live-updates-9962394.html', u'mediatype': u'news-media'}, {u'position': u'for', u'link': u'http://www.usatoday.com/story/news/world/2015/01/07/france-charlie-hebdo-satirical-publisher/21377861/', u'mediatype': u'news-media'}], u'is_rumour': u'rumour', u'misinformation': 0, 'tweet_id': '552802654641225728', u'is_turnaround': 0, u'true': u'1'}\n",
      "{u'category': u'12 people died in connection with the Charlie Hebdo attack', u'links': [{u'position': u'for', u'link': u'http://www.aljazeera.com/news/europe/2015/01/french-newspaper-attacked-paris-gunmen-201517111836139681.html', u'mediatype': u'news-media'}, {u'position': u'for', u'link': u'http://www.bbc.com/news/world-europe-30710883?ns_mchannel=social', u'mediatype': u'news-media'}, {u'position': u'for', u'link': u'http://www.independent.co.uk/news/world/europe/charlie-hebdo-paris-shooting-live-updates-9962394.html', u'mediatype': u'news-media'}, {u'position': u'for', u'link': u'http://www.usatoday.com/story/news/world/2015/01/07/france-charlie-hebdo-satirical-publisher/21377861/', u'mediatype': u'news-media'}], u'is_rumour': u'rumour', u'misinformation': 0, 'tweet_id': '552805488631758849', u'is_turnaround': 0, u'true': u'1'}\n",
      "{u'category': u'Stephane Charbonnier was critically injured in the Charlie Hebdo attack', u'links': [{u'position': u'against', u'link': u'http://www.bbc.com/news/world-europe-30710883?ns_mchannel=social', u'mediatype': u'news-media'}, {u'position': u'against', u'link': u'http://www.aljazeera.com/news/europe/2015/01/french-newspaper-attacked-paris-gunmen-201517111836139681.html', u'mediatype': u'news-media'}], u'is_rumour': u'rumour', u'misinformation': u'1', 'tweet_id': '552806309540528128', u'is_turnaround': 1, u'true': 0}\n",
      "{u'category': u'12 people died in connection with the Charlie Hebdo attack', u'links': [{u'position': u'for', u'link': u'http://www.aljazeera.com/news/europe/2015/01/french-newspaper-attacked-paris-gunmen-201517111836139681.html', u'mediatype': u'news-media'}, {u'position': u'for', u'link': u'http://www.bbc.com/news/world-europe-30710883?ns_mchannel=social', u'mediatype': u'news-media'}, {u'position': u'for', u'link': u'http://www.independent.co.uk/news/world/europe/charlie-hebdo-paris-shooting-live-updates-9962394.html', u'mediatype': u'news-media'}, {u'position': u'for', u'link': u'http://www.usatoday.com/story/news/world/2015/01/07/france-charlie-hebdo-satirical-publisher/21377861/', u'mediatype': u'news-media'}], u'is_rumour': u'rumour', u'misinformation': 0, 'tweet_id': '552806757672964097', u'is_turnaround': 0, u'true': u'1'}\n",
      "{u'category': u'The gunmen at Charlie Hebdo yelled, \"The Prophet is avenged\"', u'links': [{u'position': u'for', u'link': u'http://www.telegraph.co.uk/news/worldnews/europe/france/11329949/Shooting-reported-at-Paris-magazine-Charlie-Hebdo.html', u'mediatype': u'news-media'}, {u'position': u'for', u'link': u'http://news.sky.com/story/1403662/paris-attack-manhunt-as-armed-killers-flee', u'mediatype': u'news-media'}], u'is_rumour': u'rumour', u'misinformation': 0, 'tweet_id': '552810448324943872', u'is_turnaround': 0, u'true': 0}\n",
      "{u'category': u'12 people died in connection with the Charlie Hebdo attack', u'links': [{u'position': u'for', u'link': u'http://www.aljazeera.com/news/europe/2015/01/french-newspaper-attacked-paris-gunmen-201517111836139681.html', u'mediatype': u'news-media'}, {u'position': u'for', u'link': u'http://www.bbc.com/news/world-europe-30710883?ns_mchannel=social', u'mediatype': u'news-media'}, {u'position': u'for', u'link': u'http://www.independent.co.uk/news/world/europe/charlie-hebdo-paris-shooting-live-updates-9962394.html', u'mediatype': u'news-media'}, {u'position': u'for', u'link': u'http://www.usatoday.com/story/news/world/2015/01/07/france-charlie-hebdo-satirical-publisher/21377861/', u'mediatype': u'news-media'}], u'is_rumour': u'rumour', u'misinformation': 0, 'tweet_id': '552811386259386370', u'is_turnaround': 0, u'true': u'1'}\n",
      "{u'category': u'Stephane Charbonnier was critically injured in the Charlie Hebdo attack', u'links': [{u'position': u'against', u'link': u'http://www.bbc.com/news/world-europe-30710883?ns_mchannel=social', u'mediatype': u'news-media'}, {u'position': u'against', u'link': u'http://www.aljazeera.com/news/europe/2015/01/french-newspaper-attacked-paris-gunmen-201517111836139681.html', u'mediatype': u'news-media'}], u'is_rumour': u'rumour', u'misinformation': u'1', 'tweet_id': '552814494381256704', u'is_turnaround': 0, u'true': 0}\n",
      "{u'category': u'Four cartoonists were killed in the Charlie Hebdo attack', u'links': [], u'is_rumour': u'rumour', u'misinformation': 0, 'tweet_id': '552816020403269632', u'is_turnaround': 0, u'true': u'0'}\n",
      "{u'category': u'Four cartoonists were killed in the Charlie Hebdo attack', u'links': [], u'is_rumour': u'rumour', u'misinformation': 0, 'tweet_id': '552821069036670976', u'is_turnaround': 0, u'true': u'0'}\n",
      "{u'category': u'Two (masked) gunmen were involved in the Charlie Hebdo attack', u'links': [{u'position': u'for', u'link': u'http://www.bbc.com/news/blogs-trending-30712576', u'mediatype': u'news-media'}], u'is_rumour': u'rumour', u'misinformation': 0, 'tweet_id': '552832817089236992', u'is_turnaround': 0, u'true': u'1'}\n",
      "{u'category': u'Three gunmen are on the run after the Charlie Hebdo attack', u'links': [{u'position': u'against', u'link': u'http://www.usatoday.com/story/news/world/2015/01/07/france-charlie-hebdo-satirical-publisher/21377861/', u'mediatype': u'news-media'}, {u'position': u'for', u'link': u'http://www.bbc.com/news/live/world-europe-30710777?ns_mchannel=social', u'mediatype': u'news-media'}], u'is_rumour': u'rumour', u'misinformation': u'1', 'tweet_id': '552833028201144320', u'is_turnaround': 0, u'true': 0}\n",
      "{u'category': u'The gunmen were armed with Kalashnikovs and rocket launchers', u'links': [{u'position': u'for', u'link': u'http://news.sky.com/story/1403662/paris-attack-manhunt-as-armed-killers-flee', u'mediatype': u'news-media'}], u'is_rumour': u'rumour', u'misinformation': 0, 'tweet_id': '552834961762709505', u'is_turnaround': 0, u'true': u'1'}\n",
      "{u'category': u'The gunmen said, \"You tell the media it was al-Qaeda in Yemen\"', u'links': [{u'position': u'for', u'link': u'http://www.channel4.com/news/gun-attack-on-french-satirical-magazine-kills-at-least-10', u'mediatype': u'news-media'}, {u'position': u'for', u'link': u'http://www.20minutes.fr/societe/1511879-20150107-charlie-hebdo-dit-direz-medias-al-qaeda-yemen-raconte-temoin-19e-arrondissement', u'mediatype': u'news-media'}, {u'position': u'for', u'link': u'http://www.thedailybeast.com/cheats/2015/01/07/shooters-claimed-they-were-al-qaeda.html?via=twitter_page', u'mediatype': u'news-media'}], u'is_rumour': u'rumour', u'misinformation': 0, 'tweet_id': '552848620375261184', u'is_turnaround': 0, u'true': 0}\n",
      "{u'category': u'Banksy drew a tribute to Charlie Hebdo featuring 3 red pencils', u'links': [{u'position': u'for', u'link': u'https://instagram.com/p/xkgkBSKlWu/', u'mediatype': u'social-media'}, {u'position': u'for', u'link': u'https://www.facebook.com/banksy/photos/a.1471310386425716.1073741828.1471162443107177/1603110169912403/?type=3', u'mediatype': u'news-media'}, {u'position': u'observing', u'link': u'http://www.huffingtonpost.ca/2015/01/07/banksy-paris-cartoon-charlie-hebdo_n_6432984.html?utm_hp_ref=tw', u'mediatype': u'news-media'}, {u'position': u'against', u'link': u'http://uk.businessinsider.com/fake-banksy-charlie-hebdo-illustration-2015-1?r=US', u'mediatype': u'news-media'}, {u'position': None, u'link': u'http://www.buzzfeed.com/alanwhite/this-powerful-cartoon-about-the-charlie-hebdo-attack-is-not?bftw', u'mediatype': None}, {u'position': u'against', u'link': u'http://www.emergent.info/banksy-hebdo-charlie-cartoon', u'mediatype': u'blog'}], u'is_rumour': u'rumour', u'misinformation': u'1', 'tweet_id': '552978099357237248', u'is_turnaround': 0, u'true': 0}\n",
      "{u'category': u'Banksy drew a tribute to Charlie Hebdo featuring 3 red pencils', u'links': [{u'position': u'for', u'link': u'https://instagram.com/p/xkgkBSKlWu/', u'mediatype': u'social-media'}, {u'position': u'for', u'link': u'https://www.facebook.com/banksy/photos/a.1471310386425716.1073741828.1471162443107177/1603110169912403/?type=3', u'mediatype': u'news-media'}, {u'position': u'observing', u'link': u'http://www.huffingtonpost.ca/2015/01/07/banksy-paris-cartoon-charlie-hebdo_n_6432984.html?utm_hp_ref=tw', u'mediatype': u'news-media'}, {u'position': u'against', u'link': u'http://uk.businessinsider.com/fake-banksy-charlie-hebdo-illustration-2015-1?r=US', u'mediatype': u'news-media'}, {u'position': None, u'link': u'http://www.buzzfeed.com/alanwhite/this-powerful-cartoon-about-the-charlie-hebdo-attack-is-not?bftw', u'mediatype': None}, {u'position': u'against', u'link': u'http://www.emergent.info/banksy-hebdo-charlie-cartoon', u'mediatype': u'blog'}], u'is_rumour': u'rumour', u'misinformation': u'1', 'tweet_id': '552978184413921281', u'is_turnaround': 0, u'true': 0}\n",
      "{u'category': u'Banksy drew a tribute to Charlie Hebdo featuring 3 red pencils', u'links': [{u'position': u'for', u'link': u'https://instagram.com/p/xkgkBSKlWu/', u'mediatype': u'social-media'}, {u'position': u'for', u'link': u'https://www.facebook.com/banksy/photos/a.1471310386425716.1073741828.1471162443107177/1603110169912403/?type=3', u'mediatype': u'news-media'}, {u'position': u'observing', u'link': u'http://www.huffingtonpost.ca/2015/01/07/banksy-paris-cartoon-charlie-hebdo_n_6432984.html?utm_hp_ref=tw', u'mediatype': u'news-media'}, {u'position': u'against', u'link': u'http://uk.businessinsider.com/fake-banksy-charlie-hebdo-illustration-2015-1?r=US', u'mediatype': u'news-media'}, {u'position': None, u'link': u'http://www.buzzfeed.com/alanwhite/this-powerful-cartoon-about-the-charlie-hebdo-attack-is-not?bftw', u'mediatype': None}, {u'position': u'against', u'link': u'http://www.emergent.info/banksy-hebdo-charlie-cartoon', u'mediatype': u'blog'}], u'is_rumour': u'rumour', u'misinformation': u'1', 'tweet_id': '552982613288157184', u'is_turnaround': 0, u'true': 0}\n",
      "{u'category': u'Three suspects (inc. two brothers) have been identified in the Charlie Hebdo attacks', u'links': [{u'position': u'for', u'link': u'http://www.bbc.com/news/live/world-europe-30710777?ns_mchannel=social', u'mediatype': u'news-media'}, {u'position': u'for', u'link': u'http://www.wsj.com/articles/shooting-at-paris-office-of-charlie-hebdo-magazine-kills-12-1420630438?mod=e2tw', u'mediatype': u'news-media'}, {u'position': u'for', u'link': u'http://www.telegraph.co.uk/news/worldnews/europe/france/11332411/Said-and-Cherif-Kouachi-who-are-the-two-brothers-suspected-of-launching-Charlie-Hebdo-attack.html', u'mediatype': u'news-media'}], u'is_rumour': u'rumour', u'misinformation': 0, 'tweet_id': '552984502063337472', u'is_turnaround': 0, u'true': u'1'}\n",
      "{u'category': u'Ahmed Merabet was the first victim of the Charlie Hebdo attack', u'links': [{u'position': u'against', u'link': u'http://www.wsj.com/articles/shooting-at-paris-office-of-charlie-hebdo-magazine-kills-12-1420630438?mod=e2tw', u'mediatype': u'news-media'}], u'is_rumour': u'rumour', u'misinformation': u'1', 'tweet_id': '552996335319007233', u'is_turnaround': 0, u'true': 0}\n",
      "{u'category': u'A police officer has been shot/wounded in Montrouge', u'links': [{u'position': u'for', u'link': u'http://www.nbcnews.com/storyline/paris-magazine-attack/paris-cop-fatally-shot-france-mourns-charlie-hebdo-massacre-victims-n282031', u'mediatype': u'news-media'}], u'is_rumour': u'rumour', u'misinformation': 0, 'tweet_id': '553107921081749504', u'is_turnaround': 0, u'true': u'1'}\n",
      "{u'category': u'Banksy drew a tribute to Charlie Hebdo featuring 3 red pencils', u'links': [{u'position': u'for', u'link': u'https://instagram.com/p/xkgkBSKlWu/', u'mediatype': u'social-media'}, {u'position': u'for', u'link': u'https://www.facebook.com/banksy/photos/a.1471310386425716.1073741828.1471162443107177/1603110169912403/?type=3', u'mediatype': u'news-media'}, {u'position': u'observing', u'link': u'http://www.huffingtonpost.ca/2015/01/07/banksy-paris-cartoon-charlie-hebdo_n_6432984.html?utm_hp_ref=tw', u'mediatype': u'news-media'}, {u'position': u'against', u'link': u'http://uk.businessinsider.com/fake-banksy-charlie-hebdo-illustration-2015-1?r=US', u'mediatype': u'news-media'}, {u'position': None, u'link': u'http://www.buzzfeed.com/alanwhite/this-powerful-cartoon-about-the-charlie-hebdo-attack-is-not?bftw', u'mediatype': None}, {u'position': u'against', u'link': u'http://www.emergent.info/banksy-hebdo-charlie-cartoon', u'mediatype': u'blog'}], u'is_rumour': u'rumour', u'misinformation': u'1', 'tweet_id': '553152395371630592', u'is_turnaround': 0, u'true': 0}\n",
      "{u'category': u'Three suspects (inc. two brothers) have been identified in the Charlie Hebdo attacks', u'links': [{u'position': u'for', u'link': u'http://www.bbc.com/news/live/world-europe-30710777?ns_mchannel=social', u'mediatype': u'news-media'}, {u'position': u'for', u'link': u'http://www.wsj.com/articles/shooting-at-paris-office-of-charlie-hebdo-magazine-kills-12-1420630438?mod=e2tw', u'mediatype': u'news-media'}, {u'position': u'for', u'link': u'http://www.telegraph.co.uk/news/worldnews/europe/france/11332411/Said-and-Cherif-Kouachi-who-are-the-two-brothers-suspected-of-launching-Charlie-Hebdo-attack.html', u'mediatype': u'news-media'}], u'is_rumour': u'rumour', u'misinformation': 0, 'tweet_id': '553160652567498752', u'is_turnaround': 0, u'true': u'1'}\n",
      "{u'category': u'Two Charlie Hebdo suspects have been spotted (in a town/gas station in Northern France)', u'links': [{u'position': u'for', u'link': u'http://www.wsj.com/articles/charlie-hebdo-attack-french-police-hunt-for-gunmen-1420708623', u'mediatype': u'news-media'}, {u'position': u'for', u'link': u'http://edition.cnn.com/2015/01/08/europe/charlie-hebdo-paris-shooting/index.html', u'mediatype': u'news-media'}], u'is_rumour': u'rumour', u'misinformation': 0, 'tweet_id': '553164985460068352', u'is_turnaround': 0, u'true': 0}\n",
      "{u'category': u'ID card of one of the Charlie Hebdo suspects found in car abandoned by gunmen', u'links': [{u'position': u'for', u'link': u'http://www.wsj.com/articles/charlie-hebdo-attack-french-police-hunt-for-gunmen-1420708623', u'mediatype': u'news-media'}], u'is_rumour': u'rumour', u'misinformation': 0, 'tweet_id': '553184482241814530', u'is_turnaround': 0, u'true': 0}\n",
      "{u'category': u'Ahmed Merabet was the first victim of the Charlie Hebdo attack', u'links': [{u'position': u'against', u'link': u'http://www.wsj.com/articles/shooting-at-paris-office-of-charlie-hebdo-magazine-kills-12-1420630438?mod=e2tw', u'mediatype': u'news-media'}], u'is_rumour': u'rumour', u'misinformation': u'1', 'tweet_id': '553197863971610624', u'is_turnaround': 1, u'true': 0}\n",
      "{u'category': u'Two Charlie Hebdo suspects have been spotted (in a town/gas station in Northern France)', u'links': [{u'position': u'for', u'link': u'http://www.wsj.com/articles/charlie-hebdo-attack-french-police-hunt-for-gunmen-1420708623', u'mediatype': u'news-media'}, {u'position': u'for', u'link': u'http://edition.cnn.com/2015/01/08/europe/charlie-hebdo-paris-shooting/index.html', u'mediatype': u'news-media'}], u'is_rumour': u'rumour', u'misinformation': 0, 'tweet_id': '553212962044149761', u'is_turnaround': 0, u'true': 0}\n",
      "{u'category': u'Police officer shot at Montrouge has died of her injuries', u'links': [{u'position': u'for', u'link': u'http://www.nbcnews.com/storyline/paris-magazine-attack/paris-cop-fatally-shot-france-mourns-charlie-hebdo-massacre-victims-n282031', u'mediatype': u'news-media'}], u'is_rumour': u'rumour', u'misinformation': 0, 'tweet_id': '553221600955621376', u'is_turnaround': 0, u'true': u'1'}\n",
      "{u'category': u'Two Charlie Hebdo suspects have been spotted (in a town/gas station in Northern France)', u'links': [{u'position': u'for', u'link': u'http://www.wsj.com/articles/charlie-hebdo-attack-french-police-hunt-for-gunmen-1420708623', u'mediatype': u'news-media'}, {u'position': u'for', u'link': u'http://edition.cnn.com/2015/01/08/europe/charlie-hebdo-paris-shooting/index.html', u'mediatype': u'news-media'}], u'is_rumour': u'rumour', u'misinformation': 0, 'tweet_id': '553461741917863936', u'is_turnaround': 0, u'true': 0}\n",
      "{u'category': u'Shots have been fired (and a car chase taken place) in Dammartin-en-Goele', u'links': [{u'position': u'for', u'link': u'http://rt.com/news/221083-france-charlie-shooting-manhunt/', u'mediatype': u'news-media'}, {u'position': None, u'link': u'http://www.theguardian.com/world/live/2015/jan/09/charlie-hebdo-manhunt-kouachi-terrorist-links-live-updates?CMP=share_btn_tw', u'mediatype': None}], u'is_rumour': u'rumour', u'misinformation': 0, 'tweet_id': '553467311261503488', u'is_turnaround': 0, u'true': 0}\n",
      "{u'category': u'Shots have been fired (and a car chase taken place) in Dammartin-en-Goele', u'links': [{u'position': u'for', u'link': u'http://rt.com/news/221083-france-charlie-shooting-manhunt/', u'mediatype': u'news-media'}, {u'position': None, u'link': u'http://www.theguardian.com/world/live/2015/jan/09/charlie-hebdo-manhunt-kouachi-terrorist-links-live-updates?CMP=share_btn_tw', u'mediatype': None}], u'is_rumour': u'rumour', u'misinformation': 0, 'tweet_id': '553470492565602305', u'is_turnaround': 0, u'true': 0}\n",
      "{u'category': u'Shots have been fired (and a car chase taken place) in Dammartin-en-Goele', u'links': [{u'position': u'for', u'link': u'http://rt.com/news/221083-france-charlie-shooting-manhunt/', u'mediatype': u'news-media'}, {u'position': None, u'link': u'http://www.theguardian.com/world/live/2015/jan/09/charlie-hebdo-manhunt-kouachi-terrorist-links-live-updates?CMP=share_btn_tw', u'mediatype': None}], u'is_rumour': u'rumour', u'misinformation': 0, 'tweet_id': '553474188259102720', u'is_turnaround': 0, u'true': 0}\n",
      "{u'category': u'A police operation (convoy, helicopters) is underway to catch the Charlie Hebdo suspects northeast of Paris', u'links': [{u'position': None, u'link': u'http://www.theguardian.com/world/live/2015/jan/09/charlie-hebdo-manhunt-kouachi-terrorist-links-live-updates?CMP=share_btn_tw', u'mediatype': None}, {u'position': u'for', u'link': u'https://amp.twimg.com/v/7d7ecf3e-0965-41ca-afa6-81397b4854db', u'mediatype': u'news-media'}, {u'position': None, u'link': u'http://news.blogs.nytimes.com//2015/01/09/updates-on-the-manhunt-for-the-charlie-hebdo-suspects/?smid=tw-nytimes', u'mediatype': None}], u'is_rumour': u'rumour', u'misinformation': 0, 'tweet_id': '553476490315431937', u'is_turnaround': 0, u'true': u'1'}\n",
      "{u'category': u'A police operation (convoy, helicopters) is underway to catch the Charlie Hebdo suspects northeast of Paris', u'links': [{u'position': None, u'link': u'http://www.theguardian.com/world/live/2015/jan/09/charlie-hebdo-manhunt-kouachi-terrorist-links-live-updates?CMP=share_btn_tw', u'mediatype': None}, {u'position': u'for', u'link': u'https://amp.twimg.com/v/7d7ecf3e-0965-41ca-afa6-81397b4854db', u'mediatype': u'news-media'}, {u'position': None, u'link': u'http://news.blogs.nytimes.com//2015/01/09/updates-on-the-manhunt-for-the-charlie-hebdo-suspects/?smid=tw-nytimes', u'mediatype': None}], u'is_rumour': u'rumour', u'misinformation': 0, 'tweet_id': '553476880339599360', u'is_turnaround': 0, u'true': u'1'}\n",
      "{u'category': u'At least one person has been killed (and several injured) in shootout with Charlie Hebdo suspects northeast of Paris', u'links': [{u'position': None, u'link': u'http://www.theguardian.com/world/live/2015/jan/09/charlie-hebdo-manhunt-kouachi-terrorist-links-live-updates?CMP=share_btn_tw', u'mediatype': None}], u'is_rumour': u'rumour', u'misinformation': u'1', 'tweet_id': '553478289474740224', u'is_turnaround': 0, u'true': 0}\n",
      "{u'category': u'Hostages have been taken (at a business) in Dammartin-en-Goele', u'links': [{u'position': u'for', u'link': u'http://www.huffingtonpost.com/2015/01/09/france-manhunt-charlie-hebdo-suspects_n_6441396.html?ncid=tweetlnkushpmg00000067', u'mediatype': u'news-media'}, {u'position': u'for', u'link': u'http://time.com/3661159/charlie-hebdo-suspects-siege/', u'mediatype': u'news-media'}], u'is_rumour': u'rumour', u'misinformation': u'1', 'tweet_id': '553486439129038848', u'is_turnaround': 0, u'true': 0}\n",
      "{u'category': u'Hostages have been taken (at a business) in Dammartin-en-Goele', u'links': [{u'position': u'for', u'link': u'http://www.huffingtonpost.com/2015/01/09/france-manhunt-charlie-hebdo-suspects_n_6441396.html?ncid=tweetlnkushpmg00000067', u'mediatype': u'news-media'}, {u'position': u'for', u'link': u'http://time.com/3661159/charlie-hebdo-suspects-siege/', u'mediatype': u'news-media'}], u'is_rumour': u'rumour', u'misinformation': u'1', 'tweet_id': '553489393202499584', u'is_turnaround': 0, u'true': 0}\n",
      "{u'category': u'The Charlie Hebdo suspects say they want/are ready to die as martyrs', u'links': [{u'position': u'for', u'link': u'http://rt.com/news/221083-france-charlie-shooting-manhunt/', u'mediatype': u'news-media'}, {u'position': None, u'link': u'http://news.blogs.nytimes.com//2015/01/09/updates-on-the-manhunt-for-the-charlie-hebdo-suspects/?smid=tw-nytimes', u'mediatype': None}], u'is_rumour': u'rumour', u'misinformation': 0, 'tweet_id': '553501357156876290', u'is_turnaround': 0, u'true': 0}\n",
      "{u'category': u'The Charlie Hebdo suspects say they want/are ready to die as martyrs', u'links': [{u'position': u'for', u'link': u'http://rt.com/news/221083-france-charlie-shooting-manhunt/', u'mediatype': u'news-media'}, {u'position': None, u'link': u'http://news.blogs.nytimes.com//2015/01/09/updates-on-the-manhunt-for-the-charlie-hebdo-suspects/?smid=tw-nytimes', u'mediatype': None}], u'is_rumour': u'rumour', u'misinformation': 0, 'tweet_id': '553503184174710784', u'is_turnaround': 0, u'true': 0}\n",
      "{u'category': u'The Charlie Hebdo suspects say they want/are ready to die as martyrs', u'links': [{u'position': u'for', u'link': u'http://rt.com/news/221083-france-charlie-shooting-manhunt/', u'mediatype': u'news-media'}, {u'position': None, u'link': u'http://news.blogs.nytimes.com//2015/01/09/updates-on-the-manhunt-for-the-charlie-hebdo-suspects/?smid=tw-nytimes', u'mediatype': None}], u'is_rumour': u'rumour', u'misinformation': 0, 'tweet_id': '553505242554175489', u'is_turnaround': 0, u'true': 0}\n",
      "{u'category': u'The Charlie Hebdo suspects are holed up inside printing business in Dammartin', u'links': [{u'position': u'for', u'link': u'https://amp.twimg.com/v/7d7ecf3e-0965-41ca-afa6-81397b4854db', u'mediatype': u'news-media'}, {u'position': None, u'link': u'http://news.blogs.nytimes.com//2015/01/09/updates-on-the-manhunt-for-the-charlie-hebdo-suspects/?smid=tw-nytimes', u'mediatype': None}], u'is_rumour': u'rumour', u'misinformation': 0, 'tweet_id': '553506608203169792', u'is_turnaround': 0, u'true': u'1'}\n",
      "{u'category': u'The Charlie Hebdo suspects are holed up inside printing business in Dammartin', u'links': [{u'position': u'for', u'link': u'https://amp.twimg.com/v/7d7ecf3e-0965-41ca-afa6-81397b4854db', u'mediatype': u'news-media'}, {u'position': None, u'link': u'http://news.blogs.nytimes.com//2015/01/09/updates-on-the-manhunt-for-the-charlie-hebdo-suspects/?smid=tw-nytimes', u'mediatype': None}], u'is_rumour': u'rumour', u'misinformation': 0, 'tweet_id': '553508098825261056', u'is_turnaround': 0, u'true': u'1'}\n",
      "{u'category': u'Killing of Montrouge police officer is linked to Charlie Hebdo attack (or killer is linked to CH suspects)', u'links': [{u'position': None, u'link': u'http://news.blogs.nytimes.com//2015/01/09/updates-on-the-manhunt-for-the-charlie-hebdo-suspects/?smid=tw-nytimes', u'mediatype': None}], u'is_rumour': u'rumour', u'misinformation': 0, 'tweet_id': '553512735192141826', u'is_turnaround': 0, u'true': u'1'}\n",
      "{u'category': u'The Charlie Hebdo suspects say they want/are ready to die as martyrs', u'links': [{u'position': u'for', u'link': u'http://rt.com/news/221083-france-charlie-shooting-manhunt/', u'mediatype': u'news-media'}, {u'position': None, u'link': u'http://news.blogs.nytimes.com//2015/01/09/updates-on-the-manhunt-for-the-charlie-hebdo-suspects/?smid=tw-nytimes', u'mediatype': None}], u'is_rumour': u'rumour', u'misinformation': 0, 'tweet_id': '553518472798683136', u'is_turnaround': 0, u'true': 0}\n",
      "{u'category': u'The gunman at the kosher store is linked to the killing of the police officer in Montrouge', u'links': [{u'position': u'for', u'link': u'http://time.com/3661159/charlie-hebdo-suspects-siege/', u'mediatype': u'news-media'}, {u'position': u'for', u'link': u'http://news.sky.com/story/1404969/at-least-six-hostages-in-paris-supermarket', u'mediatype': u'news-media'}, {u'position': u'for', u'link': u'http://rt.com/news/221155-gunfire-paris-vincennes-supermarket/', u'mediatype': u'news-media'}], u'is_rumour': u'rumour', u'misinformation': 0, 'tweet_id': '553531413459660800', u'is_turnaround': 0, u'true': u'1'}\n",
      "{u'category': u'The gunman at the kosher store is linked to the killing of the police officer in Montrouge', u'links': [{u'position': u'for', u'link': u'http://time.com/3661159/charlie-hebdo-suspects-siege/', u'mediatype': u'news-media'}, {u'position': u'for', u'link': u'http://news.sky.com/story/1404969/at-least-six-hostages-in-paris-supermarket', u'mediatype': u'news-media'}, {u'position': u'for', u'link': u'http://rt.com/news/221155-gunfire-paris-vincennes-supermarket/', u'mediatype': u'news-media'}], u'is_rumour': u'rumour', u'misinformation': 0, 'tweet_id': '553534838880608256', u'is_turnaround': 0, u'true': u'1'}\n",
      "{u'category': u'There are at least five hostages in Porte de Vincennes kosher store', u'links': [{u'position': u'for', u'link': u'http://time.com/3661159/charlie-hebdo-suspects-siege/', u'mediatype': u'news-media'}], u'is_rumour': u'rumour', u'misinformation': 0, 'tweet_id': '553535829017370625', u'is_turnaround': 0, u'true': u'1'}\n",
      "{u'category': u'At least two reportedly injured in Porte de Vincennes hostage situation', u'links': [{u'position': u'observing', u'link': u'http://news.sky.com/story/1404969/at-least-six-hostages-in-paris-supermarket', u'mediatype': u'news-media'}], u'is_rumour': u'rumour', u'misinformation': u'0', 'tweet_id': '553538058440941568', u'is_turnaround': 0, u'true': 0}\n",
      "{u'category': u'A baby is among the hostages in the Kosher market', u'links': [{u'position': u'for', u'link': u'http://jpupdates.com/2015/01/09/breaking-gunman-takes-hostage-kosher-gocery-store-paris/', u'mediatype': u'news-media'}], u'is_rumour': u'rumour', u'misinformation': 0, 'tweet_id': '553543369604210689', u'is_turnaround': 0, u'true': u'1'}\n",
      "{u'category': u'At least two dead in hostage-taking in Porte de Vincennes', u'links': [{u'position': u'for', u'link': u'http://time.com/3661159/charlie-hebdo-suspects-siege/', u'mediatype': u'news-media'}, {u'position': u'for', u'link': u'http://news.sky.com/story/1404969/at-least-six-hostages-in-paris-supermarket', u'mediatype': u'news-media'}, {u'position': u'for', u'link': u'http://www.foxnews.com/world/2015/01/09/women-children-held-in-second-paris-hostage-situation-may-be-related-to/', u'mediatype': u'news-media'}, {u'position': u'observing', u'link': u'http://rt.com/news/221155-gunfire-paris-vincennes-supermarket/', u'mediatype': u'news-media'}], u'is_rumour': u'rumour', u'misinformation': u'0', 'tweet_id': '553544252563935234', u'is_turnaround': 0, u'true': 0}\n",
      "{u'category': u'The gunman at the kosher store is linked to the killing of the police officer in Montrouge', u'links': [{u'position': u'for', u'link': u'http://time.com/3661159/charlie-hebdo-suspects-siege/', u'mediatype': u'news-media'}, {u'position': u'for', u'link': u'http://news.sky.com/story/1404969/at-least-six-hostages-in-paris-supermarket', u'mediatype': u'news-media'}, {u'position': u'for', u'link': u'http://rt.com/news/221155-gunfire-paris-vincennes-supermarket/', u'mediatype': u'news-media'}], u'is_rumour': u'rumour', u'misinformation': 0, 'tweet_id': '553544694765215745', u'is_turnaround': 0, u'true': u'1'}\n",
      "{u'category': u'At least two dead in hostage-taking in Porte de Vincennes', u'links': [{u'position': u'for', u'link': u'http://time.com/3661159/charlie-hebdo-suspects-siege/', u'mediatype': u'news-media'}, {u'position': u'for', u'link': u'http://news.sky.com/story/1404969/at-least-six-hostages-in-paris-supermarket', u'mediatype': u'news-media'}, {u'position': u'for', u'link': u'http://www.foxnews.com/world/2015/01/09/women-children-held-in-second-paris-hostage-situation-may-be-related-to/', u'mediatype': u'news-media'}, {u'position': u'observing', u'link': u'http://rt.com/news/221155-gunfire-paris-vincennes-supermarket/', u'mediatype': u'news-media'}], u'is_rumour': u'rumour', u'misinformation': u'0', 'tweet_id': '553548567420628992', u'is_turnaround': 0, u'true': 0}\n",
      "{u'category': u'Kosher supermarket gunman is asking for release of Charlie Hebdo suspects', u'links': [], u'is_rumour': u'rumour', u'misinformation': 0, 'tweet_id': '553549686129561600', u'is_turnaround': 0, u'true': 0}\n",
      "{u'category': u'At least two reportedly injured in Porte de Vincennes hostage situation', u'links': [{u'position': u'observing', u'link': u'http://news.sky.com/story/1404969/at-least-six-hostages-in-paris-supermarket', u'mediatype': u'news-media'}], u'is_rumour': u'rumour', u'misinformation': u'0', 'tweet_id': '553550301886955520', u'is_turnaround': 0, u'true': 0}\n",
      "{u'category': u'A baby is among the hostages in the Kosher market', u'links': [{u'position': u'for', u'link': u'http://jpupdates.com/2015/01/09/breaking-gunman-takes-hostage-kosher-gocery-store-paris/', u'mediatype': u'news-media'}], u'is_rumour': u'rumour', u'misinformation': 0, 'tweet_id': '553558982476828674', u'is_turnaround': 0, u'true': u'1'}\n",
      "{u'category': u'The Kosher market suspect has links to the Charlie Hebdo suspects', u'links': [{u'position': None, u'link': u'http://news.blogs.nytimes.com/2015/01/09/updates-on-the-manhunt-for-the-charlie-hebdo-suspects/?smid=tw-nytimes', u'mediatype': None}], u'is_rumour': u'rumour', u'misinformation': 0, 'tweet_id': '553566026030272512', u'is_turnaround': 0, u'true': u'1'}\n",
      "{u'category': u'Kosher supermarket gunman is asking for release of Charlie Hebdo suspects', u'links': [], u'is_rumour': u'rumour', u'misinformation': 0, 'tweet_id': '553575232867672064', u'is_turnaround': 0, u'true': 0}\n",
      "{u'category': u'Kosher supermarket gunman is asking for release of Charlie Hebdo suspects', u'links': [], u'is_rumour': u'rumour', u'misinformation': 0, 'tweet_id': '553576010898497536', u'is_turnaround': 0, u'true': 0}\n",
      "{u'category': u'Kosher supermarket gunman is asking for release of Charlie Hebdo suspects', u'links': [], u'is_rumour': u'rumour', u'misinformation': 0, 'tweet_id': '553579224402235393', u'is_turnaround': 0, u'true': 0}\n",
      "{u'category': u'The two Charlie Hebdo suspects have been killed in a police assault in Dammartin', u'links': [{u'position': u'for', u'link': u'http://rt.com/news/221239-gunshots-hostage-dammartin-france/', u'mediatype': u'news-media'}, {u'position': u'for', u'link': u'http://www.thesun.co.uk/sol/homepage/news/6248204/Anti-terror-cops-lock-down-village-in-hunt-for-Paris-gunmen.html?CMP=spklr-128761471-Editorial-TWITTER-SunNewsdesk-20150109-News', u'mediatype': u'news-media'}], u'is_rumour': u'rumour', u'misinformation': 0, 'tweet_id': '553586860334010368', u'is_turnaround': 0, u'true': u'1'}\n",
      "{u'category': u'The two Charlie Hebdo suspects have been killed in a police assault in Dammartin', u'links': [{u'position': u'for', u'link': u'http://rt.com/news/221239-gunshots-hostage-dammartin-france/', u'mediatype': u'news-media'}, {u'position': u'for', u'link': u'http://www.thesun.co.uk/sol/homepage/news/6248204/Anti-terror-cops-lock-down-village-in-hunt-for-Paris-gunmen.html?CMP=spklr-128761471-Editorial-TWITTER-SunNewsdesk-20150109-News', u'mediatype': u'news-media'}], u'is_rumour': u'rumour', u'misinformation': 0, 'tweet_id': '553586897168392192', u'is_turnaround': 0, u'true': u'1'}\n",
      "{u'category': u'The hostage in Dammartin has been freed following police assault', u'links': [{u'position': u'for', u'link': u'http://www.bbc.com/news/live/world-europe-30722098?ns_mchannel=social', u'mediatype': u'news-media'}, {u'position': u'for', u'link': u'http://news.sky.com/story/1405095/paris-suspects-killed-as-police-end-stand-off', u'mediatype': u'news-media'}], u'is_rumour': u'rumour', u'misinformation': 0, 'tweet_id': '553587013409325058', u'is_turnaround': 0, u'true': u'1'}\n",
      "{u'category': u'Several hostages have been freed in Porte de Vincennes', u'links': [{u'position': u'for', u'link': u'http://www.thesun.co.uk/sol/homepage/news/6248204/Anti-terror-cops-lock-down-village-in-hunt-for-Paris-gunmen.html?CMP=spklr-128761471-Editorial-TWITTER-SunNewsdesk-20150109-News', u'mediatype': u'news-media'}, {u'position': u'for', u'link': u'http://www.bbc.com/news/live/world-europe-30722098?ns_mchannel=social', u'mediatype': u'news-media'}, {u'position': u'for', u'link': u'http://news.sky.com/story/1405106/hostages-killed-in-paris-supermarket-siege', u'mediatype': u'news-media'}], u'is_rumour': u'rumour', u'misinformation': 0, 'tweet_id': '553587303172833280', u'is_turnaround': 0, u'true': u'1'}\n",
      "{u'category': u'The two Charlie Hebdo suspects have been killed in a police assault in Dammartin', u'links': [{u'position': u'for', u'link': u'http://rt.com/news/221239-gunshots-hostage-dammartin-france/', u'mediatype': u'news-media'}, {u'position': u'for', u'link': u'http://www.thesun.co.uk/sol/homepage/news/6248204/Anti-terror-cops-lock-down-village-in-hunt-for-Paris-gunmen.html?CMP=spklr-128761471-Editorial-TWITTER-SunNewsdesk-20150109-News', u'mediatype': u'news-media'}], u'is_rumour': u'rumour', u'misinformation': 0, 'tweet_id': '553587672137334785', u'is_turnaround': 0, u'true': u'1'}\n",
      "{u'category': u'The two Charlie Hebdo suspects have been killed in a police assault in Dammartin', u'links': [{u'position': u'for', u'link': u'http://rt.com/news/221239-gunshots-hostage-dammartin-france/', u'mediatype': u'news-media'}, {u'position': u'for', u'link': u'http://www.thesun.co.uk/sol/homepage/news/6248204/Anti-terror-cops-lock-down-village-in-hunt-for-Paris-gunmen.html?CMP=spklr-128761471-Editorial-TWITTER-SunNewsdesk-20150109-News', u'mediatype': u'news-media'}], u'is_rumour': u'rumour', u'misinformation': 0, 'tweet_id': '553588178687655936', u'is_turnaround': 0, u'true': u'1'}\n",
      "{u'category': u'Several hostages have been freed in Porte de Vincennes', u'links': [{u'position': u'for', u'link': u'http://www.thesun.co.uk/sol/homepage/news/6248204/Anti-terror-cops-lock-down-village-in-hunt-for-Paris-gunmen.html?CMP=spklr-128761471-Editorial-TWITTER-SunNewsdesk-20150109-News', u'mediatype': u'news-media'}, {u'position': u'for', u'link': u'http://www.bbc.com/news/live/world-europe-30722098?ns_mchannel=social', u'mediatype': u'news-media'}, {u'position': u'for', u'link': u'http://news.sky.com/story/1405106/hostages-killed-in-paris-supermarket-siege', u'mediatype': u'news-media'}], u'is_rumour': u'rumour', u'misinformation': 0, 'tweet_id': '553589051044151296', u'is_turnaround': 0, u'true': u'1'}\n",
      "{u'category': u'Several hostages have been freed in Porte de Vincennes', u'links': [{u'position': u'for', u'link': u'http://www.thesun.co.uk/sol/homepage/news/6248204/Anti-terror-cops-lock-down-village-in-hunt-for-Paris-gunmen.html?CMP=spklr-128761471-Editorial-TWITTER-SunNewsdesk-20150109-News', u'mediatype': u'news-media'}, {u'position': u'for', u'link': u'http://www.bbc.com/news/live/world-europe-30722098?ns_mchannel=social', u'mediatype': u'news-media'}, {u'position': u'for', u'link': u'http://news.sky.com/story/1405106/hostages-killed-in-paris-supermarket-siege', u'mediatype': u'news-media'}], u'is_rumour': u'rumour', u'misinformation': 0, 'tweet_id': '553590459688570880', u'is_turnaround': 0, u'true': u'1'}\n",
      "{u'category': u'The suspect in the hostage-taking at the Kosher market is dead', u'links': [{u'position': None, u'link': u'http://news.blogs.nytimes.com/2015/01/09/updates-on-the-manhunt-for-the-charlie-hebdo-suspects/?smid=tw-nytimes', u'mediatype': None}, {u'position': u'for', u'link': u'http://news.sky.com/story/1405106/hostages-killed-in-paris-supermarket-siege', u'mediatype': u'news-media'}], u'is_rumour': u'rumour', u'misinformation': 0, 'tweet_id': '553590835850514433', u'is_turnaround': 0, u'true': u'1'}\n"
     ]
    }
   ],
   "source": [
    "import os\n",
    "import json\n",
    "output=open('charliehebdo.json','a')\n",
    "for fpathe,dirs,fs in os.walk('.'):\n",
    "    for f in fs:\n",
    "        if f == \"annotation.json\": \n",
    "            #a_json=json.loads(f.read())\n",
    "            filename = os.path.join(fpathe,f)\n",
    "            fhand = open(filename,'r')\n",
    "            a_json = json.loads(fhand.read().decode('utf-8'))\n",
    "            a_json['tweet_id']=fpathe[2:]\n",
    "            #write the annotation of source tweet into \"carliehebdo.json\"\n",
    "            with open('charliehebdo.json', 'a') as f:\n",
    "                json.dump(a_json, f)\n",
    "                f.write('\\n')\n",
    "            #print a_json\n",
    "#annotations = [i for i in os.listdir('.') if os.path.isfile(i) and os.path.splitext(i)=='annotation.json']\n",
    "#print annotations\n",
    "#type(annotations)\n",
    "#for i in annotations:\n",
    "#    print i\n"
   ]
  },
  {
   "cell_type": "code",
   "execution_count": 18,
   "metadata": {
    "collapsed": false,
    "deletable": true,
    "editable": true
   },
   "outputs": [
    {
     "name": "stdout",
     "output_type": "stream",
     "text": [
      "C:\\JupyterHost\\CUI_LIBR559D\\FINAL\\pheme-rumour-scheme-dataset\\threads\\en\\ebola-essien\n"
     ]
    }
   ],
   "source": [
    "cd C:\\JupyterHost\\CUI_LIBR559D\\FINAL\\pheme-rumour-scheme-dataset\\threads\\en\\ebola-essien"
   ]
  },
  {
   "cell_type": "code",
   "execution_count": 19,
   "metadata": {
    "collapsed": false,
    "deletable": true,
    "editable": true,
    "scrolled": true
   },
   "outputs": [],
   "source": [
    "import os\n",
    "import json\n",
    "output=open('ebola-essien.json','a')\n",
    "for fpathe,dirs,fs in os.walk('.'):\n",
    "    for f in fs:\n",
    "        if f == \"annotation.json\": \n",
    "            #a_json=json.loads(f.read())\n",
    "            filename = os.path.join(fpathe,f)\n",
    "            fhand = open(filename,'r')\n",
    "            a_json = json.loads(fhand.read().decode('utf-8'))\n",
    "            a_json['tweet_id']=fpathe[2:]\n",
    "            #write the annotation of source tweet into \"carliehebdo.json\"\n",
    "            with open('ebola-essien.json', 'a') as f:\n",
    "                json.dump(a_json, f)\n",
    "                f.write('\\n')\n",
    "            #print a_json\n",
    "#annotations = [i for i in os.listdir('.') if os.path.isfile(i) and os.path.splitext(i)=='annotation.json']\n",
    "#print annotations\n",
    "#type(annotations)\n",
    "#for i in annotations:\n",
    "#    print i\n"
   ]
  },
  {
   "cell_type": "code",
   "execution_count": 19,
   "metadata": {
    "collapsed": false,
    "deletable": true,
    "editable": true
   },
   "outputs": [
    {
     "name": "stdout",
     "output_type": "stream",
     "text": [
      "C:\\JupyterHost\\LIBR559D\\FINAL\\pheme-rumour-scheme-dataset\\threads\\en\\ferguson\n"
     ]
    }
   ],
   "source": [
    "cd C:\\JupyterHost\\LIBR559D\\FINAL\\pheme-rumour-scheme-dataset\\threads\\en\\ferguson"
   ]
  },
  {
   "cell_type": "code",
   "execution_count": 21,
   "metadata": {
    "collapsed": false,
    "deletable": true,
    "editable": true,
    "scrolled": true
   },
   "outputs": [],
   "source": [
    "import os\n",
    "import json\n",
    "output=open('ferguson.json','a')\n",
    "for fpathe,dirs,fs in os.walk('.'):\n",
    "    for f in fs:\n",
    "        if f == \"annotation.json\": \n",
    "            #a_json=json.loads(f.read())\n",
    "            filename = os.path.join(fpathe,f)\n",
    "            fhand = open(filename,'r')\n",
    "            a_json = json.loads(fhand.read().decode('utf-8'))\n",
    "            a_json['tweet_id']=fpathe[2:]\n",
    "            #write the annotation of source tweet into \"carliehebdo.json\"\n",
    "            with open('ferguson.json', 'a') as f:\n",
    "                json.dump(a_json, f)\n",
    "                f.write('\\n')\n",
    "            #print a_json\n",
    "#annotations = [i for i in os.listdir('.') if os.path.isfile(i) and os.path.splitext(i)=='annotation.json']\n",
    "#print annotations\n",
    "#type(annotations)\n",
    "#for i in annotations:\n",
    "#    print i\n"
   ]
  },
  {
   "cell_type": "code",
   "execution_count": 24,
   "metadata": {
    "collapsed": false,
    "deletable": true,
    "editable": true,
    "scrolled": true
   },
   "outputs": [
    {
     "name": "stdout",
     "output_type": "stream",
     "text": [
      "C:\\JupyterHost\\LIBR559D\\FINAL\\pheme-rumour-scheme-dataset\\threads\\en\n"
     ]
    }
   ],
   "source": [
    "cd C:\\JupyterHost\\LIBR559D\\FINAL\\pheme-rumour-scheme-dataset\\threads\\en"
   ]
  },
  {
   "cell_type": "code",
   "execution_count": 24,
   "metadata": {
    "collapsed": false,
    "deletable": true,
    "editable": true,
    "scrolled": true
   },
   "outputs": [],
   "source": [
    "import os\n",
    "import json\n",
    "output=open('germanwings-crash.json','a')\n",
    "for fpathe,dirs,fs in os.walk('.'):\n",
    "    for f in fs:\n",
    "        if f == \"annotation.json\": \n",
    "            #a_json=json.loads(f.read())\n",
    "            filename = os.path.join(fpathe,f)\n",
    "            fhand = open(filename,'r')\n",
    "            a_json = json.loads(fhand.read().decode('utf-8'))\n",
    "            a_json['tweet_id']=fpathe[2:]\n",
    "            #write the annotation of source tweet into \"carliehebdo.json\"\n",
    "            with open('germanwings-crash.json', 'a') as f:\n",
    "                json.dump(a_json, f)\n",
    "                f.write('\\n')\n",
    "            #print a_json\n",
    "#annotations = [i for i in os.listdir('.') if os.path.isfile(i) and os.path.splitext(i)=='annotation.json']\n",
    "#print annotations\n",
    "#type(annotations)\n",
    "#for i in annotations:\n",
    "#    print i\n"
   ]
  },
  {
   "cell_type": "markdown",
   "metadata": {
    "deletable": true,
    "editable": true
   },
   "source": [
    "## Reading \"annotation.json\" into one file\n",
    "Add the tag tweet_id and story"
   ]
  },
  {
   "cell_type": "code",
   "execution_count": 25,
   "metadata": {
    "collapsed": false,
    "deletable": true,
    "editable": true,
    "scrolled": true
   },
   "outputs": [
    {
     "name": "stdout",
     "output_type": "stream",
     "text": [
      "C:\\JupyterHost\\LIBR559D\\FINAL\\pheme-rumour-scheme-dataset\\threads\\en\n"
     ]
    }
   ],
   "source": [
    "cd C:\\JupyterHost\\LIBR559D\\FINAL\\pheme-rumour-scheme-dataset\\threads\\en"
   ]
  },
  {
   "cell_type": "code",
   "execution_count": 3,
   "metadata": {
    "collapsed": false,
    "deletable": true,
    "editable": true,
    "scrolled": true
   },
   "outputs": [],
   "source": [
    "###----Don't Change This Line ---##\n",
    "import os\n",
    "import json\n",
    "output=open('test.json','a')\n",
    "for fpathe,dirs,fs in os.walk('.'):\n",
    "    for f in fs:\n",
    "        if f == \"annotation.json\": \n",
    "            #a_json=json.loads(f.read())\n",
    "            filename = os.path.join(fpathe,f)\n",
    "            fhand = open(filename,'r')\n",
    "            a_json = json.loads(fhand.read().decode('utf-8'))\n",
    "            a_json['tweet_id']=int(fpathe[-18:])\n",
    "            a_json['story']=fpathe[2:-19]\n",
    "            #print(a_json)\n",
    "            #print(fpathe[-18:])\n",
    "            #print(dirs)\n",
    "            #write the annotation of source tweet into \"test.json\"\n",
    "            with open('test.json', 'a') as f:\n",
    "                json.dump(a_json, f)\n",
    "                f.write('\\n')\n",
    "            #print a_json\n",
    "#annotations = [i for i in os.listdir('.') if os.path.isfile(i) and os.path.splitext(i)=='annotation.json']\n",
    "#print annotations\n",
    "#type(annotations)\n",
    "#for i in annotations:\n",
    "#    print i\n"
   ]
  },
  {
   "cell_type": "markdown",
   "metadata": {
    "deletable": true,
    "editable": true
   },
   "source": [
    "# Write Source Tweet into results.json\n"
   ]
  },
  {
   "cell_type": "code",
   "execution_count": 27,
   "metadata": {
    "collapsed": false,
    "deletable": true,
    "editable": true
   },
   "outputs": [
    {
     "name": "stdout",
     "output_type": "stream",
     "text": [
      "C:\\JupyterHost\\LIBR559D\\FINAL\n"
     ]
    }
   ],
   "source": [
    "cd C:\\JupyterHost\\LIBR559D\\FINAL\\"
   ]
  },
  {
   "cell_type": "code",
   "execution_count": 18,
   "metadata": {
    "collapsed": false,
    "deletable": true,
    "editable": true
   },
   "outputs": [],
   "source": [
    "#---Write Source Tweet to one file ---#\n",
    "#---Succeed, Don't Change ---#\n",
    "\n",
    "import os\n",
    "import json\n",
    "\n",
    "#test.json contains tweet_id, misinformation, etc.\n",
    "f2=open('test.json','r')\n",
    "a = f2.readlines()\n",
    "for l in a:\n",
    "    a_json = json.loads(l)\n",
    "    \n",
    "# The Source Tweets are save under the folder \"Training-Source-Tweets\"\n",
    "    for i in os.listdir('Training-Source-Tweets'):\n",
    "        if os.path.splitext(i)[0]==str(a_json['tweet_id']):\n",
    "            f3=open('Training-Source-Tweets\\\\'+i,'r')\n",
    "            source_tweet=json.load(f3)\n",
    "# source_tweet['text'] is the text of given id\n",
    "            a_json['text']=source_tweet['text']\n",
    "            with open('results.json', 'a') as f4:\n",
    "                json.dump(a_json, f4)\n",
    "                f4.write('\\n')\n",
    "f2.close()\n",
    "f4.close()\n",
    "#print(source_tweet)\n",
    "#print(a[0])\n",
    "#b = json.loads(a)"
   ]
  },
  {
   "cell_type": "code",
   "execution_count": 14,
   "metadata": {
    "collapsed": false,
    "deletable": true,
    "editable": true
   },
   "outputs": [
    {
     "name": "stdout",
     "output_type": "stream",
     "text": [
      "[]\n"
     ]
    }
   ],
   "source": [
    "import os\n",
    "import json\n",
    "\n",
    "annotations = [i for i in os.listdir('.') if os.path.isfile(i) and os.path.splitext(i)=='.json']\n",
    "print annotations\n",
    "#type(annotations)\n",
    "for i in annotations:\n",
    "    print i"
   ]
  },
  {
   "cell_type": "code",
   "execution_count": 15,
   "metadata": {
    "collapsed": false,
    "deletable": true,
    "editable": true
   },
   "outputs": [
    {
     "name": "stdout",
     "output_type": "stream",
     "text": [
      "[]\n"
     ]
    }
   ],
   "source": [
    "import os, json\n",
    "import pandas as pd\n",
    "\n",
    "path_to_json = '.'\n",
    "json_files = [pos_json for pos_json in os.listdir('.') if pos_json.endswith('annotation.json')]\n",
    "print json_files"
   ]
  },
  {
   "cell_type": "code",
   "execution_count": null,
   "metadata": {
    "collapsed": true
   },
   "outputs": [],
   "source": []
  },
  {
   "cell_type": "markdown",
   "metadata": {},
   "source": [
    "# Add More Information In The Source Tweets Collection\n",
    "1. Tweet feature: \n",
    "    a) favorite_count\n",
    "    b) retweet_count\n",
    "    c) favorited by authenticated user : favorited\n",
    "    d) retweeted by authenticated user : retweeted\n",
    "    e) created_at\n",
    "2. User feature: \n",
    "    a) created_at\n",
    "    b) follow_request_sent: When true, indicates that the authenticating user has issued a follow request to this protected user account.\n",
    "    c) default_profile_image: When true, indicates that the user has not uploaded their own avatar and a default egg avatar is used instead.\n",
    "    d) following:  When true, indicates that the authenticating user is following this user. Some false negatives are possible when set to “false,” but these false negatives are increasingly being represented as “null” instead. \n",
    "    "
   ]
  },
  {
   "cell_type": "code",
   "execution_count": 28,
   "metadata": {
    "collapsed": false,
    "deletable": true,
    "editable": true
   },
   "outputs": [
    {
     "name": "stdout",
     "output_type": "stream",
     "text": [
      "C:\\JupyterHost\\LIBR559D\\FINAL\n"
     ]
    }
   ],
   "source": [
    "cd C:\\JupyterHost\\LIBR559D\\FINAL\\"
   ]
  },
  {
   "cell_type": "code",
   "execution_count": 29,
   "metadata": {
    "collapsed": false,
    "deletable": true,
    "editable": true
   },
   "outputs": [],
   "source": [
    "#---Write Source Tweet and other necessary information in one file ---#\n",
    "\"\"\"\n",
    "Tweet feature: \n",
    "a) favorite_count \n",
    "b) retweet_count \n",
    "c) favorited by authenticated user : favorited\n",
    "d) retweeted by authenticated user : retweeted \n",
    "e) created_at\n",
    "User feature: \n",
    "a) created_at \n",
    "b) follow_request_sent: When true, indicates that the authenticating user has issued a follow request to this protected user account. \n",
    "c) default_profile_image: When true, indicates that the user has not uploaded their own avatar and a default egg avatar is used instead. \n",
    "d) following: When true, indicates that the authenticating user is following this user. Some false negatives are possible when set to “false,” but these false negatives are increasingly being represented as “null” instead.\n",
    "\"\"\"\n",
    "#---Succeed, Don't Change ---#\n",
    "\n",
    "import os\n",
    "import json\n",
    "\n",
    "#test.json contains tweet_id, misinformation, etc.\n",
    "f2=open('test.json','r')\n",
    "a = f2.readlines()\n",
    "for l in a:\n",
    "    a_json = json.loads(l)\n",
    "    \n",
    "# The Source Tweets are save under the folder \"Training-Source-Tweets\"\n",
    "    for i in os.listdir('Training-Source-Tweets'):\n",
    "        if os.path.splitext(i)[0]==str(a_json['tweet_id']):\n",
    "            f3=open('Training-Source-Tweets\\\\'+i,'r')\n",
    "            source_tweet=json.load(f3)\n",
    "# source_tweet['text'] is the text of given id\n",
    "            a_json['text']=source_tweet['text']\n",
    "            a_json['source_tweet_feature']={'retweet_count':source_tweet['retweet_count'],\n",
    "                                            'favorite_count':source_tweet['favorite_count'],\n",
    "                                           'favorited_V':source_tweet['favorited'],\n",
    "                                           'retweeted_V':source_tweet['retweeted'],\n",
    "                                         'created_at':source_tweet['created_at']}\n",
    "            a_json['user_feature']={'follow_request_sent':source_tweet['user']['follow_request_sent'],\n",
    "                                   'follwing':source_tweet['user']['following'],\n",
    "                                   'default_profile_image':source_tweet['user']['default_profile_image'],\n",
    "                                   'created_at':source_tweet['user']['created_at']}\n",
    "            with open('results2.json', 'a') as f4:\n",
    "                json.dump(a_json, f4)\n",
    "                f4.write('\\n')\n",
    "f2.close()\n",
    "f4.close()\n",
    "#print(source_tweet)\n",
    "#print(a[0])\n",
    "#b = json.loads(a)"
   ]
  }
 ],
 "metadata": {
  "kernelspec": {
   "display_name": "Python 2",
   "language": "python",
   "name": "python2"
  },
  "language_info": {
   "codemirror_mode": {
    "name": "ipython",
    "version": 2
   },
   "file_extension": ".py",
   "mimetype": "text/x-python",
   "name": "python",
   "nbconvert_exporter": "python",
   "pygments_lexer": "ipython2",
   "version": "2.7.13"
  }
 },
 "nbformat": 4,
 "nbformat_minor": 2
}
